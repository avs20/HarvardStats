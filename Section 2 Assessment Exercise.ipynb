{
 "cells": [
  {
   "cell_type": "markdown",
   "metadata": {},
   "source": [
    "### Questions 1 and 2: ACT scores, part 1\n",
    "\n",
    "The ACT is a standardized college admissions test used in the United States. The four multi-part questions in this assessment all involve simulating some ACT test scores and answering probability questions about them.\n",
    "\n",
    "For the three year period 2016-2018, ACT standardized test scores were approximately normally distributed with a mean of 20.9 and standard deviation of 5.7. (Real ACT scores are integers between 1 and 36, but we will ignore this detail and use continuous values instead.)\n",
    "\n",
    "First we'll simulate an ACT test score dataset and answer some questions about it.\n",
    "\n",
    "Set the seed to 16, then use rnorm to generate a normal distribution of 10000 tests with a mean of 20.9 and standard deviation of 5.7. Save these values as act_scores. You'll be using this dataset throughout these four multi-part questions.\n",
    "\n",
    "**(IMPORTANT NOTE! If you use R 3.6 or later, you will need to use the command set.seed(x, sample.kind = \"Rounding\") instead of set.seed(x). Your R version will be printed at the top of the Console window when you start RStudio.)**"
   ]
  },
  {
   "cell_type": "code",
   "execution_count": 2,
   "metadata": {},
   "outputs": [
    {
     "name": "stderr",
     "output_type": "stream",
     "text": [
      "Warning message in set.seed(16, sample.kind = \"Rounding\"):\n",
      "“non-uniform 'Rounding' sampler used”"
     ]
    }
   ],
   "source": [
    "set.seed(16, sample.kind=\"Rounding\")"
   ]
  },
  {
   "cell_type": "code",
   "execution_count": 3,
   "metadata": {},
   "outputs": [],
   "source": [
    "act_scores <- rnorm(10000,20.9,5.7)"
   ]
  },
  {
   "cell_type": "markdown",
   "metadata": {},
   "source": [
    "Question 1a\n",
    "\n",
    "What is the mean of act_scores?"
   ]
  },
  {
   "cell_type": "code",
   "execution_count": 4,
   "metadata": {},
   "outputs": [
    {
     "data": {
      "text/html": [
       "20.8401214295426"
      ],
      "text/latex": [
       "20.8401214295426"
      ],
      "text/markdown": [
       "20.8401214295426"
      ],
      "text/plain": [
       "[1] 20.84012"
      ]
     },
     "metadata": {},
     "output_type": "display_data"
    }
   ],
   "source": [
    "mean(act_scores)"
   ]
  },
  {
   "cell_type": "markdown",
   "metadata": {},
   "source": [
    "Question 1b\n",
    "\n",
    "What is the standard deviation of act_scores?"
   ]
  },
  {
   "cell_type": "code",
   "execution_count": 5,
   "metadata": {},
   "outputs": [
    {
     "data": {
      "text/html": [
       "5.67523700598245"
      ],
      "text/latex": [
       "5.67523700598245"
      ],
      "text/markdown": [
       "5.67523700598245"
      ],
      "text/plain": [
       "[1] 5.675237"
      ]
     },
     "metadata": {},
     "output_type": "display_data"
    }
   ],
   "source": [
    "sd(act_scores)"
   ]
  },
  {
   "cell_type": "markdown",
   "metadata": {},
   "source": [
    "\n",
    "Question 1c\n",
    "\n",
    "A perfect score is 36 or greater (the maximum reported score is 36).\n",
    "\n",
    "In act_scores, how many perfect scores are there out of 10,000 simulated tests?"
   ]
  },
  {
   "cell_type": "code",
   "execution_count": 9,
   "metadata": {},
   "outputs": [
    {
     "data": {
      "text/html": [
       "41"
      ],
      "text/latex": [
       "41"
      ],
      "text/markdown": [
       "41"
      ],
      "text/plain": [
       "[1] 41"
      ]
     },
     "metadata": {},
     "output_type": "display_data"
    }
   ],
   "source": [
    "sum(act_scores >= 36)"
   ]
  },
  {
   "cell_type": "markdown",
   "metadata": {},
   "source": [
    "Question 1d\n",
    "\n",
    "In act_scores, what is the probability of an ACT score greater than 30?"
   ]
  },
  {
   "cell_type": "code",
   "execution_count": 13,
   "metadata": {
    "scrolled": true
   },
   "outputs": [
    {
     "data": {
      "text/html": [
       "0.0527"
      ],
      "text/latex": [
       "0.0527"
      ],
      "text/markdown": [
       "0.0527"
      ],
      "text/plain": [
       "[1] 0.0527"
      ]
     },
     "metadata": {},
     "output_type": "display_data"
    }
   ],
   "source": [
    "mean(act_scores > 30)"
   ]
  },
  {
   "cell_type": "markdown",
   "metadata": {},
   "source": [
    "Question 1e\n",
    "\n",
    "In act_scores, what is the probability of an ACT score less than or equal to 10?"
   ]
  },
  {
   "cell_type": "code",
   "execution_count": 14,
   "metadata": {},
   "outputs": [
    {
     "data": {
      "text/html": [
       "0.0282"
      ],
      "text/latex": [
       "0.0282"
      ],
      "text/markdown": [
       "0.0282"
      ],
      "text/plain": [
       "[1] 0.0282"
      ]
     },
     "metadata": {},
     "output_type": "display_data"
    }
   ],
   "source": [
    "mean(act_scores <=10)"
   ]
  },
  {
   "cell_type": "markdown",
   "metadata": {},
   "source": [
    "Question 2\n",
    "\n",
    "Set x equal to the sequence of integers 1 to 36. Use dnorm to determine the value of the probability density function over x given a mean of 20.9 and standard deviation of 5.7; save the result as f_x. Plot x against f_x.\n",
    "\n",
    "Which of the following plots is correct?"
   ]
  },
  {
   "cell_type": "code",
   "execution_count": 15,
   "metadata": {},
   "outputs": [
    {
     "data": {
      "image/png": "[encoded data removed]",
      "text/plain": [
       "plot without title"
      ]
     },
     "metadata": {},
     "output_type": "display_data"
    }
   ],
   "source": [
    "x <- seq (1:36)\n",
    "f_x <- dnorm(x,20.9,5.7)\n",
    "plot(x,f_x)"
   ]
  },
  {
   "cell_type": "markdown",
   "metadata": {},
   "source": [
    "# Questions 3 and 4: ACT scores, part 2\n",
    "\n",
    "In this 3-part question, you will convert raw ACT scores to Z-scores and answer some questions about them.\n",
    "\n",
    "Convert act_scores to Z-scores. Recall from Data Visualization (the second course in this series) that to standardize values (convert values into Z-scores, that is, values distributed with a mean of 0 and standard deviation of 1), you must subtract the mean and then divide by the standard deviation. Use the mean and standard deviation of act_scores, not the original values used to generate random test scores."
   ]
  },
  {
   "cell_type": "code",
   "execution_count": 17,
   "metadata": {},
   "outputs": [],
   "source": [
    "x_bar <- mean(act_scores)\n",
    "sigma <- sd(act_scores)\n",
    "\n",
    "z_scores <- (act_scores - x_bar) / sigma"
   ]
  },
  {
   "cell_type": "markdown",
   "metadata": {},
   "source": [
    "### Question 3a\n",
    "\n",
    "What is the probability of a Z-score greater than 2 (2 standard deviations above the mean)?"
   ]
  },
  {
   "cell_type": "code",
   "execution_count": 19,
   "metadata": {},
   "outputs": [
    {
     "data": {
      "text/html": [
       "0.0233"
      ],
      "text/latex": [
       "0.0233"
      ],
      "text/markdown": [
       "0.0233"
      ],
      "text/plain": [
       "[1] 0.0233"
      ]
     },
     "metadata": {},
     "output_type": "display_data"
    }
   ],
   "source": [
    "mean(z_scores > 2)"
   ]
  },
  {
   "cell_type": "markdown",
   "metadata": {},
   "source": [
    "### Question 3b\n",
    "\n",
    "What ACT score value corresponds to 2 standard deviations above the mean (Z = 2)?\n",
    "\n",
    "This is an intuitive one. just reverse the formula for z-score \n",
    "\n",
    "z_scores * sigma + x_bar"
   ]
  },
  {
   "cell_type": "code",
   "execution_count": 20,
   "metadata": {},
   "outputs": [
    {
     "data": {
      "text/html": [
       "32.1905954415075"
      ],
      "text/latex": [
       "32.1905954415075"
      ],
      "text/markdown": [
       "32.1905954415075"
      ],
      "text/plain": [
       "[1] 32.1906"
      ]
     },
     "metadata": {},
     "output_type": "display_data"
    }
   ],
   "source": [
    "2 * sigma + x_bar"
   ]
  },
  {
   "cell_type": "markdown",
   "metadata": {},
   "source": [
    "### Question 3c\n",
    "\n",
    "A Z-score of 2 corresponds roughly to the 97.5th percentile.\n",
    "\n",
    "Use qnorm to determine the 97.5th percentile of normally distributed data with the mean and standard deviation observed in act_scores.\n",
    "\n",
    "What is the 97.5th percentile of act_scores?"
   ]
  },
  {
   "cell_type": "code",
   "execution_count": 22,
   "metadata": {},
   "outputs": [
    {
     "data": {
      "text/html": [
       "31.9633815649971"
      ],
      "text/latex": [
       "31.9633815649971"
      ],
      "text/markdown": [
       "31.9633815649971"
      ],
      "text/plain": [
       "[1] 31.96338"
      ]
     },
     "metadata": {},
     "output_type": "display_data"
    }
   ],
   "source": [
    "qnorm(0.975, x_bar, sigma)"
   ]
  },
  {
   "cell_type": "markdown",
   "metadata": {},
   "source": [
    "\n",
    "## In this 4-part question, you will write a function to create a CDF for ACT scores.\n",
    "\n",
    "Write a function that takes a value and produces the probability of an ACT score less than or equal to that value (the CDF). Apply this function to the range 1 to 36."
   ]
  },
  {
   "cell_type": "code",
   "execution_count": 30,
   "metadata": {},
   "outputs": [
    {
     "data": {
      "text/html": [
       "<table>\n",
       "<caption>A data.frame: 36 × 2</caption>\n",
       "<thead>\n",
       "\t<tr><th scope=col>to_range</th><th scope=col>sapply.to_range..p_act.</th></tr>\n",
       "\t<tr><th scope=col>&lt;int&gt;</th><th scope=col>&lt;dbl&gt;</th></tr>\n",
       "</thead>\n",
       "<tbody>\n",
       "\t<tr><td> 1</td><td>0.0002362234</td></tr>\n",
       "\t<tr><td> 2</td><td>0.0004505606</td></tr>\n",
       "\t<tr><td> 3</td><td>0.0008346951</td></tr>\n",
       "\t<tr><td> 4</td><td>0.0015021464</td></tr>\n",
       "\t<tr><td> 5</td><td>0.0026265086</td></tr>\n",
       "\t<tr><td> 6</td><td>0.0044628076</td></tr>\n",
       "\t<tr><td> 7</td><td>0.0073703838</td></tr>\n",
       "\t<tr><td> 8</td><td>0.0118338206</td></tr>\n",
       "\t<tr><td> 9</td><td>0.0184767296</td></tr>\n",
       "\t<tr><td>10</td><td>0.0280618569</td></tr>\n",
       "\t<tr><td>11</td><td>0.0414706034</td></tr>\n",
       "\t<tr><td>12</td><td>0.0596562701</td></tr>\n",
       "\t<tr><td>13</td><td>0.0835685537</td></tr>\n",
       "\t<tr><td>14</td><td>0.1140519737</td></tr>\n",
       "\t<tr><td>15</td><td>0.1517273122</td></tr>\n",
       "\t<tr><td>16</td><td>0.1968714636</td></tr>\n",
       "\t<tr><td>17</td><td>0.2493155719</td></tr>\n",
       "\t<tr><td>18</td><td>0.3083822859</td></tr>\n",
       "\t<tr><td>19</td><td>0.3728793321</td></tr>\n",
       "\t<tr><td>20</td><td>0.4411584271</td></tr>\n",
       "\t<tr><td>21</td><td>0.5112372199</td></tr>\n",
       "\t<tr><td>22</td><td>0.5809699057</td></tr>\n",
       "\t<tr><td>23</td><td>0.6482423333</td></tr>\n",
       "\t<tr><td>24</td><td>0.7111623356</td></tr>\n",
       "\t<tr><td>25</td><td>0.7682170155</td></tr>\n",
       "\t<tr><td>26</td><td>0.8183755365</td></tr>\n",
       "\t<tr><td>27</td><td>0.8611268104</td></tr>\n",
       "\t<tr><td>28</td><td>0.8964536081</td></tr>\n",
       "\t<tr><td>29</td><td>0.9247551655</td></tr>\n",
       "\t<tr><td>30</td><td>0.9467371667</td></tr>\n",
       "\t<tr><td>31</td><td>0.9632900984</td></tr>\n",
       "\t<tr><td>32</td><td>0.9753747291</td></tr>\n",
       "\t<tr><td>33</td><td>0.9839282040</td></tr>\n",
       "\t<tr><td>34</td><td>0.9897977227</td></tr>\n",
       "\t<tr><td>35</td><td>0.9937026509</td></tr>\n",
       "\t<tr><td>36</td><td>0.9962213380</td></tr>\n",
       "</tbody>\n",
       "</table>\n"
      ],
      "text/latex": [
       "A data.frame: 36 × 2\n",
       "\\begin{tabular}{r|ll}\n",
       " to\\_range & sapply.to\\_range..p\\_act.\\\\\n",
       " <int> & <dbl>\\\\\n",
       "\\hline\n",
       "\t  1 & 0.0002362234\\\\\n",
       "\t  2 & 0.0004505606\\\\\n",
       "\t  3 & 0.0008346951\\\\\n",
       "\t  4 & 0.0015021464\\\\\n",
       "\t  5 & 0.0026265086\\\\\n",
       "\t  6 & 0.0044628076\\\\\n",
       "\t  7 & 0.0073703838\\\\\n",
       "\t  8 & 0.0118338206\\\\\n",
       "\t  9 & 0.0184767296\\\\\n",
       "\t 10 & 0.0280618569\\\\\n",
       "\t 11 & 0.0414706034\\\\\n",
       "\t 12 & 0.0596562701\\\\\n",
       "\t 13 & 0.0835685537\\\\\n",
       "\t 14 & 0.1140519737\\\\\n",
       "\t 15 & 0.1517273122\\\\\n",
       "\t 16 & 0.1968714636\\\\\n",
       "\t 17 & 0.2493155719\\\\\n",
       "\t 18 & 0.3083822859\\\\\n",
       "\t 19 & 0.3728793321\\\\\n",
       "\t 20 & 0.4411584271\\\\\n",
       "\t 21 & 0.5112372199\\\\\n",
       "\t 22 & 0.5809699057\\\\\n",
       "\t 23 & 0.6482423333\\\\\n",
       "\t 24 & 0.7111623356\\\\\n",
       "\t 25 & 0.7682170155\\\\\n",
       "\t 26 & 0.8183755365\\\\\n",
       "\t 27 & 0.8611268104\\\\\n",
       "\t 28 & 0.8964536081\\\\\n",
       "\t 29 & 0.9247551655\\\\\n",
       "\t 30 & 0.9467371667\\\\\n",
       "\t 31 & 0.9632900984\\\\\n",
       "\t 32 & 0.9753747291\\\\\n",
       "\t 33 & 0.9839282040\\\\\n",
       "\t 34 & 0.9897977227\\\\\n",
       "\t 35 & 0.9937026509\\\\\n",
       "\t 36 & 0.9962213380\\\\\n",
       "\\end{tabular}\n"
      ],
      "text/markdown": [
       "\n",
       "A data.frame: 36 × 2\n",
       "\n",
       "| to_range &lt;int&gt; | sapply.to_range..p_act. &lt;dbl&gt; |\n",
       "|---|---|\n",
       "|  1 | 0.0002362234 |\n",
       "|  2 | 0.0004505606 |\n",
       "|  3 | 0.0008346951 |\n",
       "|  4 | 0.0015021464 |\n",
       "|  5 | 0.0026265086 |\n",
       "|  6 | 0.0044628076 |\n",
       "|  7 | 0.0073703838 |\n",
       "|  8 | 0.0118338206 |\n",
       "|  9 | 0.0184767296 |\n",
       "| 10 | 0.0280618569 |\n",
       "| 11 | 0.0414706034 |\n",
       "| 12 | 0.0596562701 |\n",
       "| 13 | 0.0835685537 |\n",
       "| 14 | 0.1140519737 |\n",
       "| 15 | 0.1517273122 |\n",
       "| 16 | 0.1968714636 |\n",
       "| 17 | 0.2493155719 |\n",
       "| 18 | 0.3083822859 |\n",
       "| 19 | 0.3728793321 |\n",
       "| 20 | 0.4411584271 |\n",
       "| 21 | 0.5112372199 |\n",
       "| 22 | 0.5809699057 |\n",
       "| 23 | 0.6482423333 |\n",
       "| 24 | 0.7111623356 |\n",
       "| 25 | 0.7682170155 |\n",
       "| 26 | 0.8183755365 |\n",
       "| 27 | 0.8611268104 |\n",
       "| 28 | 0.8964536081 |\n",
       "| 29 | 0.9247551655 |\n",
       "| 30 | 0.9467371667 |\n",
       "| 31 | 0.9632900984 |\n",
       "| 32 | 0.9753747291 |\n",
       "| 33 | 0.9839282040 |\n",
       "| 34 | 0.9897977227 |\n",
       "| 35 | 0.9937026509 |\n",
       "| 36 | 0.9962213380 |\n",
       "\n"
      ],
      "text/plain": [
       "   to_range sapply.to_range..p_act.\n",
       "1   1       0.0002362234           \n",
       "2   2       0.0004505606           \n",
       "3   3       0.0008346951           \n",
       "4   4       0.0015021464           \n",
       "5   5       0.0026265086           \n",
       "6   6       0.0044628076           \n",
       "7   7       0.0073703838           \n",
       "8   8       0.0118338206           \n",
       "9   9       0.0184767296           \n",
       "10 10       0.0280618569           \n",
       "11 11       0.0414706034           \n",
       "12 12       0.0596562701           \n",
       "13 13       0.0835685537           \n",
       "14 14       0.1140519737           \n",
       "15 15       0.1517273122           \n",
       "16 16       0.1968714636           \n",
       "17 17       0.2493155719           \n",
       "18 18       0.3083822859           \n",
       "19 19       0.3728793321           \n",
       "20 20       0.4411584271           \n",
       "21 21       0.5112372199           \n",
       "22 22       0.5809699057           \n",
       "23 23       0.6482423333           \n",
       "24 24       0.7111623356           \n",
       "25 25       0.7682170155           \n",
       "26 26       0.8183755365           \n",
       "27 27       0.8611268104           \n",
       "28 28       0.8964536081           \n",
       "29 29       0.9247551655           \n",
       "30 30       0.9467371667           \n",
       "31 31       0.9632900984           \n",
       "32 32       0.9753747291           \n",
       "33 33       0.9839282040           \n",
       "34 34       0.9897977227           \n",
       "35 35       0.9937026509           \n",
       "36 36       0.9962213380           "
      ]
     },
     "metadata": {},
     "output_type": "display_data"
    }
   ],
   "source": [
    "to_range <- seq(1:36)\n",
    "\n",
    "p_act <- function(val){\n",
    "    pnorm(val, x_bar, sigma)\n",
    "    \n",
    "}\n",
    "\n",
    "data.frame(to_range, sapply(to_range, p_act))"
   ]
  },
  {
   "cell_type": "markdown",
   "metadata": {},
   "source": [
    "### Question 4b\n",
    "\n",
    "Use qnorm to determine the expected 95th percentile, the value for which the probability of receiving that score or lower is 0.95, given a mean score of 20.9 and standard deviation of 5.7.\n",
    "\n",
    "What is the expected 95th percentile of ACT scores?"
   ]
  },
  {
   "cell_type": "code",
   "execution_count": 31,
   "metadata": {},
   "outputs": [
    {
     "data": {
      "text/html": [
       "30.2756656736234"
      ],
      "text/latex": [
       "30.2756656736234"
      ],
      "text/markdown": [
       "30.2756656736234"
      ],
      "text/plain": [
       "[1] 30.27567"
      ]
     },
     "metadata": {},
     "output_type": "display_data"
    }
   ],
   "source": [
    "qnorm(0.95,20.9,5.7)"
   ]
  },
  {
   "cell_type": "markdown",
   "metadata": {},
   "source": [
    "### Question 4c\n",
    "\n",
    "As discussed in the Data Visualization course, we can use quantile to determine sample quantiles from the data.\n",
    "\n",
    "Make a vector containing the quantiles for p <- seq(0.01, 0.99, 0.01), the 1st through 99th percentiles of the act_scores data. Save these as sample_quantiles.\n",
    "\n",
    "In what percentile is a score of 26?\n",
    "Note that a score between the 98th and 99th percentile should be considered the 98th percentile, for example, and that quantile numbers are used as names for the vector sample_quantiles."
   ]
  },
  {
   "cell_type": "code",
   "execution_count": 32,
   "metadata": {},
   "outputs": [
    {
     "data": {
      "text/html": [
       "<table>\n",
       "<caption>A data.frame: 99 × 2</caption>\n",
       "<thead>\n",
       "\t<tr><th scope=col>p...100</th><th scope=col>sample_quantiles</th></tr>\n",
       "\t<tr><th scope=col>&lt;dbl&gt;</th><th scope=col>&lt;dbl&gt;</th></tr>\n",
       "</thead>\n",
       "<tbody>\n",
       "\t<tr><td> 1</td><td> 7.637546</td></tr>\n",
       "\t<tr><td> 2</td><td> 9.184610</td></tr>\n",
       "\t<tr><td> 3</td><td>10.166172</td></tr>\n",
       "\t<tr><td> 4</td><td>10.904563</td></tr>\n",
       "\t<tr><td> 5</td><td>11.505187</td></tr>\n",
       "\t<tr><td> 6</td><td>12.016413</td></tr>\n",
       "\t<tr><td> 7</td><td>12.464658</td></tr>\n",
       "\t<tr><td> 8</td><td>12.866007</td></tr>\n",
       "\t<tr><td> 9</td><td>13.231019</td></tr>\n",
       "\t<tr><td>10</td><td>13.567013</td></tr>\n",
       "\t<tr><td>11</td><td>13.879284</td></tr>\n",
       "\t<tr><td>12</td><td>14.171793</td></tr>\n",
       "\t<tr><td>13</td><td>14.447585</td></tr>\n",
       "\t<tr><td>14</td><td>14.709053</td></tr>\n",
       "\t<tr><td>15</td><td>14.958116</td></tr>\n",
       "\t<tr><td>16</td><td>15.196337</td></tr>\n",
       "\t<tr><td>17</td><td>15.425007</td></tr>\n",
       "\t<tr><td>18</td><td>15.645208</td></tr>\n",
       "\t<tr><td>19</td><td>15.857852</td></tr>\n",
       "\t<tr><td>20</td><td>16.063721</td></tr>\n",
       "\t<tr><td>21</td><td>16.263490</td></tr>\n",
       "\t<tr><td>22</td><td>16.457742</td></tr>\n",
       "\t<tr><td>23</td><td>16.646990</td></tr>\n",
       "\t<tr><td>24</td><td>16.831687</td></tr>\n",
       "\t<tr><td>25</td><td>17.012232</td></tr>\n",
       "\t<tr><td>26</td><td>17.188984</td></tr>\n",
       "\t<tr><td>27</td><td>17.362262</td></tr>\n",
       "\t<tr><td>28</td><td>17.532358</td></tr>\n",
       "\t<tr><td>29</td><td>17.699532</td></tr>\n",
       "\t<tr><td>30</td><td>17.864024</td></tr>\n",
       "\t<tr><td>⋮</td><td>⋮</td></tr>\n",
       "\t<tr><td>70</td><td>23.81622</td></tr>\n",
       "\t<tr><td>71</td><td>23.98071</td></tr>\n",
       "\t<tr><td>72</td><td>24.14789</td></tr>\n",
       "\t<tr><td>73</td><td>24.31798</td></tr>\n",
       "\t<tr><td>74</td><td>24.49126</td></tr>\n",
       "\t<tr><td>75</td><td>24.66801</td></tr>\n",
       "\t<tr><td>76</td><td>24.84856</td></tr>\n",
       "\t<tr><td>77</td><td>25.03325</td></tr>\n",
       "\t<tr><td>78</td><td>25.22250</td></tr>\n",
       "\t<tr><td>79</td><td>25.41675</td></tr>\n",
       "\t<tr><td>80</td><td>25.61652</td></tr>\n",
       "\t<tr><td>81</td><td>25.82239</td></tr>\n",
       "\t<tr><td>82</td><td>26.03504</td></tr>\n",
       "\t<tr><td>83</td><td>26.25524</td></tr>\n",
       "\t<tr><td>84</td><td>26.48391</td></tr>\n",
       "\t<tr><td>85</td><td>26.72213</td></tr>\n",
       "\t<tr><td>86</td><td>26.97119</td></tr>\n",
       "\t<tr><td>87</td><td>27.23266</td></tr>\n",
       "\t<tr><td>88</td><td>27.50845</td></tr>\n",
       "\t<tr><td>89</td><td>27.80096</td></tr>\n",
       "\t<tr><td>90</td><td>28.11323</td></tr>\n",
       "\t<tr><td>91</td><td>28.44922</td></tr>\n",
       "\t<tr><td>92</td><td>28.81424</td></tr>\n",
       "\t<tr><td>93</td><td>29.21559</td></tr>\n",
       "\t<tr><td>94</td><td>29.66383</td></tr>\n",
       "\t<tr><td>95</td><td>30.17506</td></tr>\n",
       "\t<tr><td>96</td><td>30.77568</td></tr>\n",
       "\t<tr><td>97</td><td>31.51407</td></tr>\n",
       "\t<tr><td>98</td><td>32.49563</td></tr>\n",
       "\t<tr><td>99</td><td>34.04270</td></tr>\n",
       "</tbody>\n",
       "</table>\n"
      ],
      "text/latex": [
       "A data.frame: 99 × 2\n",
       "\\begin{tabular}{r|ll}\n",
       " p...100 & sample\\_quantiles\\\\\n",
       " <dbl> & <dbl>\\\\\n",
       "\\hline\n",
       "\t  1 &  7.637546\\\\\n",
       "\t  2 &  9.184610\\\\\n",
       "\t  3 & 10.166172\\\\\n",
       "\t  4 & 10.904563\\\\\n",
       "\t  5 & 11.505187\\\\\n",
       "\t  6 & 12.016413\\\\\n",
       "\t  7 & 12.464658\\\\\n",
       "\t  8 & 12.866007\\\\\n",
       "\t  9 & 13.231019\\\\\n",
       "\t 10 & 13.567013\\\\\n",
       "\t 11 & 13.879284\\\\\n",
       "\t 12 & 14.171793\\\\\n",
       "\t 13 & 14.447585\\\\\n",
       "\t 14 & 14.709053\\\\\n",
       "\t 15 & 14.958116\\\\\n",
       "\t 16 & 15.196337\\\\\n",
       "\t 17 & 15.425007\\\\\n",
       "\t 18 & 15.645208\\\\\n",
       "\t 19 & 15.857852\\\\\n",
       "\t 20 & 16.063721\\\\\n",
       "\t 21 & 16.263490\\\\\n",
       "\t 22 & 16.457742\\\\\n",
       "\t 23 & 16.646990\\\\\n",
       "\t 24 & 16.831687\\\\\n",
       "\t 25 & 17.012232\\\\\n",
       "\t 26 & 17.188984\\\\\n",
       "\t 27 & 17.362262\\\\\n",
       "\t 28 & 17.532358\\\\\n",
       "\t 29 & 17.699532\\\\\n",
       "\t 30 & 17.864024\\\\\n",
       "\t ⋮ & ⋮\\\\\n",
       "\t 70 & 23.81622\\\\\n",
       "\t 71 & 23.98071\\\\\n",
       "\t 72 & 24.14789\\\\\n",
       "\t 73 & 24.31798\\\\\n",
       "\t 74 & 24.49126\\\\\n",
       "\t 75 & 24.66801\\\\\n",
       "\t 76 & 24.84856\\\\\n",
       "\t 77 & 25.03325\\\\\n",
       "\t 78 & 25.22250\\\\\n",
       "\t 79 & 25.41675\\\\\n",
       "\t 80 & 25.61652\\\\\n",
       "\t 81 & 25.82239\\\\\n",
       "\t 82 & 26.03504\\\\\n",
       "\t 83 & 26.25524\\\\\n",
       "\t 84 & 26.48391\\\\\n",
       "\t 85 & 26.72213\\\\\n",
       "\t 86 & 26.97119\\\\\n",
       "\t 87 & 27.23266\\\\\n",
       "\t 88 & 27.50845\\\\\n",
       "\t 89 & 27.80096\\\\\n",
       "\t 90 & 28.11323\\\\\n",
       "\t 91 & 28.44922\\\\\n",
       "\t 92 & 28.81424\\\\\n",
       "\t 93 & 29.21559\\\\\n",
       "\t 94 & 29.66383\\\\\n",
       "\t 95 & 30.17506\\\\\n",
       "\t 96 & 30.77568\\\\\n",
       "\t 97 & 31.51407\\\\\n",
       "\t 98 & 32.49563\\\\\n",
       "\t 99 & 34.04270\\\\\n",
       "\\end{tabular}\n"
      ],
      "text/markdown": [
       "\n",
       "A data.frame: 99 × 2\n",
       "\n",
       "| p...100 &lt;dbl&gt; | sample_quantiles &lt;dbl&gt; |\n",
       "|---|---|\n",
       "|  1 |  7.637546 |\n",
       "|  2 |  9.184610 |\n",
       "|  3 | 10.166172 |\n",
       "|  4 | 10.904563 |\n",
       "|  5 | 11.505187 |\n",
       "|  6 | 12.016413 |\n",
       "|  7 | 12.464658 |\n",
       "|  8 | 12.866007 |\n",
       "|  9 | 13.231019 |\n",
       "| 10 | 13.567013 |\n",
       "| 11 | 13.879284 |\n",
       "| 12 | 14.171793 |\n",
       "| 13 | 14.447585 |\n",
       "| 14 | 14.709053 |\n",
       "| 15 | 14.958116 |\n",
       "| 16 | 15.196337 |\n",
       "| 17 | 15.425007 |\n",
       "| 18 | 15.645208 |\n",
       "| 19 | 15.857852 |\n",
       "| 20 | 16.063721 |\n",
       "| 21 | 16.263490 |\n",
       "| 22 | 16.457742 |\n",
       "| 23 | 16.646990 |\n",
       "| 24 | 16.831687 |\n",
       "| 25 | 17.012232 |\n",
       "| 26 | 17.188984 |\n",
       "| 27 | 17.362262 |\n",
       "| 28 | 17.532358 |\n",
       "| 29 | 17.699532 |\n",
       "| 30 | 17.864024 |\n",
       "| ⋮ | ⋮ |\n",
       "| 70 | 23.81622 |\n",
       "| 71 | 23.98071 |\n",
       "| 72 | 24.14789 |\n",
       "| 73 | 24.31798 |\n",
       "| 74 | 24.49126 |\n",
       "| 75 | 24.66801 |\n",
       "| 76 | 24.84856 |\n",
       "| 77 | 25.03325 |\n",
       "| 78 | 25.22250 |\n",
       "| 79 | 25.41675 |\n",
       "| 80 | 25.61652 |\n",
       "| 81 | 25.82239 |\n",
       "| 82 | 26.03504 |\n",
       "| 83 | 26.25524 |\n",
       "| 84 | 26.48391 |\n",
       "| 85 | 26.72213 |\n",
       "| 86 | 26.97119 |\n",
       "| 87 | 27.23266 |\n",
       "| 88 | 27.50845 |\n",
       "| 89 | 27.80096 |\n",
       "| 90 | 28.11323 |\n",
       "| 91 | 28.44922 |\n",
       "| 92 | 28.81424 |\n",
       "| 93 | 29.21559 |\n",
       "| 94 | 29.66383 |\n",
       "| 95 | 30.17506 |\n",
       "| 96 | 30.77568 |\n",
       "| 97 | 31.51407 |\n",
       "| 98 | 32.49563 |\n",
       "| 99 | 34.04270 |\n",
       "\n"
      ],
      "text/plain": [
       "   p...100 sample_quantiles\n",
       "1   1       7.637546       \n",
       "2   2       9.184610       \n",
       "3   3      10.166172       \n",
       "4   4      10.904563       \n",
       "5   5      11.505187       \n",
       "6   6      12.016413       \n",
       "7   7      12.464658       \n",
       "8   8      12.866007       \n",
       "9   9      13.231019       \n",
       "10 10      13.567013       \n",
       "11 11      13.879284       \n",
       "12 12      14.171793       \n",
       "13 13      14.447585       \n",
       "14 14      14.709053       \n",
       "15 15      14.958116       \n",
       "16 16      15.196337       \n",
       "17 17      15.425007       \n",
       "18 18      15.645208       \n",
       "19 19      15.857852       \n",
       "20 20      16.063721       \n",
       "21 21      16.263490       \n",
       "22 22      16.457742       \n",
       "23 23      16.646990       \n",
       "24 24      16.831687       \n",
       "25 25      17.012232       \n",
       "26 26      17.188984       \n",
       "27 27      17.362262       \n",
       "28 28      17.532358       \n",
       "29 29      17.699532       \n",
       "30 30      17.864024       \n",
       "⋮  ⋮       ⋮               \n",
       "70 70      23.81622        \n",
       "71 71      23.98071        \n",
       "72 72      24.14789        \n",
       "73 73      24.31798        \n",
       "74 74      24.49126        \n",
       "75 75      24.66801        \n",
       "76 76      24.84856        \n",
       "77 77      25.03325        \n",
       "78 78      25.22250        \n",
       "79 79      25.41675        \n",
       "80 80      25.61652        \n",
       "81 81      25.82239        \n",
       "82 82      26.03504        \n",
       "83 83      26.25524        \n",
       "84 84      26.48391        \n",
       "85 85      26.72213        \n",
       "86 86      26.97119        \n",
       "87 87      27.23266        \n",
       "88 88      27.50845        \n",
       "89 89      27.80096        \n",
       "90 90      28.11323        \n",
       "91 91      28.44922        \n",
       "92 92      28.81424        \n",
       "93 93      29.21559        \n",
       "94 94      29.66383        \n",
       "95 95      30.17506        \n",
       "96 96      30.77568        \n",
       "97 97      31.51407        \n",
       "98 98      32.49563        \n",
       "99 99      34.04270        "
      ]
     },
     "metadata": {},
     "output_type": "display_data"
    }
   ],
   "source": [
    "p <- seq(0.01, 0.99, 0.01)\n",
    "\n",
    "sample_quantiles <- qnorm(p,x_bar, sigma)\n",
    "\n",
    "data.frame(p*100, sample_quantiles)"
   ]
  },
  {
   "cell_type": "markdown",
   "metadata": {},
   "source": [
    "### Question 4d\n",
    "\n",
    "Make a corresponding set of theoretical quantiles using qnorm over the interval p <- seq(0.01, 0.99, 0.01) with mean 20.9 and standard deviation 5.7. Save these as theoretical_quantiles. Make a QQ-plot graphing sample_quantiles on the y-axis versus theoretical_quantiles on the x-axis.\n",
    "\n",
    "Which of the following graphs is correct?"
   ]
  },
  {
   "cell_type": "code",
   "execution_count": 33,
   "metadata": {},
   "outputs": [
    {
     "data": {
      "image/png": "[encoded data removed]",
      "text/plain": [
       "Plot with title “Normal Q-Q Plot”"
      ]
     },
     "metadata": {},
     "output_type": "display_data"
    }
   ],
   "source": [
    "qqnorm(sample_quantiles)"
   ]
  },
  {
   "cell_type": "code",
   "execution_count": null,
   "metadata": {},
   "outputs": [],
   "source": []
  }
 ],
 "metadata": {
  "kernelspec": {
   "display_name": "R",
   "language": "R",
   "name": "ir"
  },
  "language_info": {
   "codemirror_mode": "r",
   "file_extension": ".r",
   "mimetype": "text/x-r-source",
   "name": "R",
   "pygments_lexer": "r",
   "version": "3.6.1"
  }
 },
 "nbformat": 4,
 "nbformat_minor": 2
}
