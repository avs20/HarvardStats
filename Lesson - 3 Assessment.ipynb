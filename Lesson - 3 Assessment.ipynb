{
 "cells": [
  {
   "cell_type": "markdown",
   "metadata": {},
   "source": [
    "### Questions 1 and 2: SAT testing\n",
    "\n",
    "The SAT is a standardized college admissions test used in the United States. The following two multi-part questions will ask you some questions about SAT testing.\n",
    "\n",
    "This is a 6-part question asking you to determine some probabilities of what happens when a student guessed for all of their answers on the SAT. Use the information below to inform your answers for the following questions.\n",
    "\n",
    "----\n",
    "\n",
    "An old version of the SAT college entrance exam had a -0.25 point penalty for every incorrect answer and awarded 1 point for a correct answer. The quantitative test consisted of 44 multiple-choice questions each with 5 answer choices. Suppose a student chooses answers by guessing for all questions on the test."
   ]
  },
  {
   "cell_type": "markdown",
   "metadata": {},
   "source": [
    "#### Question 1a\n",
    "\n",
    "What is the probability of guessing correctly for one question?"
   ]
  },
  {
   "cell_type": "code",
   "execution_count": 5,
   "metadata": {},
   "outputs": [
    {
     "data": {
      "text/html": [
       "0.2"
      ],
      "text/latex": [
       "0.2"
      ],
      "text/markdown": [
       "0.2"
      ],
      "text/plain": [
       "[1] 0.2"
      ]
     },
     "metadata": {},
     "output_type": "display_data"
    }
   ],
   "source": [
    "p_correct <- 1/5\n",
    "p_correct"
   ]
  },
  {
   "cell_type": "markdown",
   "metadata": {},
   "source": [
    "#### Question 1b\n",
    "\n",
    "What is the expected value of points for guessing on one question?"
   ]
  },
  {
   "cell_type": "code",
   "execution_count": 3,
   "metadata": {},
   "outputs": [
    {
     "data": {
      "text/html": [
       "0"
      ],
      "text/latex": [
       "0"
      ],
      "text/markdown": [
       "0"
      ],
      "text/plain": [
       "[1] 0"
      ]
     },
     "metadata": {},
     "output_type": "display_data"
    }
   ],
   "source": [
    "1*p_correct -0.25*(1-p_correct)"
   ]
  },
  {
   "cell_type": "markdown",
   "metadata": {},
   "source": [
    "#### Question 1c\n",
    "\n",
    "What is the expected score of guessing on all 44 questions?"
   ]
  },
  {
   "cell_type": "code",
   "execution_count": 6,
   "metadata": {},
   "outputs": [
    {
     "data": {
      "text/html": [
       "0"
      ],
      "text/latex": [
       "0"
      ],
      "text/markdown": [
       "0"
      ],
      "text/plain": [
       "[1] 0"
      ]
     },
     "metadata": {},
     "output_type": "display_data"
    }
   ],
   "source": [
    "0"
   ]
  },
  {
   "cell_type": "markdown",
   "metadata": {},
   "source": [
    "#### Question 1d\n",
    "\n",
    "What is the standard error of guessing on all 44 questions?"
   ]
  },
  {
   "cell_type": "code",
   "execution_count": 7,
   "metadata": {},
   "outputs": [
    {
     "data": {
      "text/html": [
       "3.3166247903554"
      ],
      "text/latex": [
       "3.3166247903554"
      ],
      "text/markdown": [
       "3.3166247903554"
      ],
      "text/plain": [
       "[1] 3.316625"
      ]
     },
     "metadata": {},
     "output_type": "display_data"
    }
   ],
   "source": [
    "n <- 44\n",
    "sqrt(n) * abs(1--.25) * sqrt(0.2*0.8)"
   ]
  },
  {
   "cell_type": "markdown",
   "metadata": {},
   "source": [
    "#### Question 1e\n",
    "\n",
    "Use the Central Limit Theorem to determine the probability that a guessing student scores 8 points or higher on the test.\n"
   ]
  },
  {
   "cell_type": "markdown",
   "metadata": {},
   "source": [
    "Since central limit theorem tell that the distribution of sum of random draws will also be a normal distribution. So we need to create a normal distribution wiht mean 0 and sd as 3.316. Then use the pnorm to calculate the prob < 8 and subtract that. "
   ]
  },
  {
   "cell_type": "code",
   "execution_count": 9,
   "metadata": {},
   "outputs": [
    {
     "data": {
      "text/html": [
       "0.00792078576946165"
      ],
      "text/latex": [
       "0.00792078576946165"
      ],
      "text/markdown": [
       "0.00792078576946165"
      ],
      "text/plain": [
       "[1] 0.007920786"
      ]
     },
     "metadata": {},
     "output_type": "display_data"
    }
   ],
   "source": [
    "1-pnorm(8, 0, 3.316)"
   ]
  },
  {
   "cell_type": "markdown",
   "metadata": {},
   "source": [
    "#### Question 1f\n",
    "\n",
    "Set the seed to 21, then run a Monte Carlo simulation of 10,000 students guessing on the test.\n",
    "\n",
    "(IMPORTANT! If you use R 3.6 or later, you will need to use the command set.seed(x, sample.kind = \"Rounding\") instead of set.seed(x). Your R version will be printed at the top of the Console window when you start RStudio.)\n",
    "\n",
    "What is the probability that a guessing student scores 8 points or higher?"
   ]
  },
  {
   "cell_type": "code",
   "execution_count": 15,
   "metadata": {},
   "outputs": [
    {
     "name": "stderr",
     "output_type": "stream",
     "text": [
      "Warning message in set.seed(21, sample.kind = \"Rounding\"):\n",
      "“non-uniform 'Rounding' sampler used”"
     ]
    },
    {
     "data": {
      "text/html": [
       "0.008"
      ],
      "text/latex": [
       "0.008"
      ],
      "text/markdown": [
       "0.008"
      ],
      "text/plain": [
       "[1] 0.008"
      ]
     },
     "metadata": {},
     "output_type": "display_data"
    }
   ],
   "source": [
    "set.seed(21, sample.kind=\"Rounding\")\n",
    "\n",
    "B <- 10000\n",
    "\n",
    "S <- replicate( B, {\n",
    "    X <- sample(x = c(1,-0.25), size = 44, replace=TRUE, prob=c(0.2,0.8))\n",
    "    sum(X)    \n",
    "})\n",
    "\n",
    "mean(S > 8)"
   ]
  },
  {
   "cell_type": "markdown",
   "metadata": {},
   "source": [
    "The SAT was recently changed to reduce the number of multiple choice options from 5 to 4 and also to eliminate the penalty for guessing.\n",
    "\n",
    "In this three-part question, you'll explore how that affected the expected values for the test.\n",
    "\n",
    "-----\n",
    "\n",
    "#### Question 2a\n",
    "\n",
    "Suppose that the number of multiple choice options is 4 and that there is no penalty for guessing - that is, an incorrect question gives a score of 0.\n",
    "\n",
    "What is the expected value of the score when guessing on this new test?"
   ]
  },
  {
   "cell_type": "code",
   "execution_count": 17,
   "metadata": {},
   "outputs": [
    {
     "data": {
      "text/html": [
       "11"
      ],
      "text/latex": [
       "11"
      ],
      "text/markdown": [
       "11"
      ],
      "text/plain": [
       "[1] 11"
      ]
     },
     "metadata": {},
     "output_type": "display_data"
    }
   ],
   "source": [
    "p_correct <- 0.25\n",
    "p_incorrect <- 0.75\n",
    "\n",
    "44 * (1*p_correct + 0*p_incorrect)"
   ]
  },
  {
   "cell_type": "markdown",
   "metadata": {},
   "source": [
    "Question 2b\n",
    "\n",
    "Using the normal approximation, what is the estimated probability of scoring over 30 when guessing?\n",
    "Report your answer using scientific notation with 3 significant digits in the format x.xx*10^y. Do not round the values passed to pnorm or you will lose precision and have an incorrect answer."
   ]
  },
  {
   "cell_type": "code",
   "execution_count": 18,
   "metadata": {},
   "outputs": [
    {
     "data": {
      "text/html": [
       "1.85838011645956e-11"
      ],
      "text/latex": [
       "1.85838011645956e-11"
      ],
      "text/markdown": [
       "1.85838011645956e-11"
      ],
      "text/plain": [
       "[1] 1.85838e-11"
      ]
     },
     "metadata": {},
     "output_type": "display_data"
    }
   ],
   "source": [
    "se <- sqrt(44) * abs(1-0) * sqrt(0.25*0.75)\n",
    "1-pnorm(30,11,se)"
   ]
  },
  {
   "cell_type": "markdown",
   "metadata": {},
   "source": [
    "#### Question 2c\n",
    "\n",
    "Consider a range of correct answer probabilities p <- seq(0.25, 0.95, 0.05) representing a range of student skills.\n",
    "\n",
    "What is the lowest p such that the probability of scoring over 35 exceeds 80%?"
   ]
  },
  {
   "cell_type": "code",
   "execution_count": 24,
   "metadata": {},
   "outputs": [
    {
     "data": {
      "text/html": [
       "<table>\n",
       "<caption>A data.frame: 15 × 2</caption>\n",
       "<thead>\n",
       "\t<tr><th scope=col>p</th><th scope=col>sapply.p..get_prob.</th></tr>\n",
       "\t<tr><th scope=col>&lt;dbl&gt;</th><th scope=col>&lt;dbl&gt;</th></tr>\n",
       "</thead>\n",
       "<tbody>\n",
       "\t<tr><td>0.25</td><td>0.000000e+00</td></tr>\n",
       "\t<tr><td>0.30</td><td>3.704814e-11</td></tr>\n",
       "\t<tr><td>0.35</td><td>2.914853e-08</td></tr>\n",
       "\t<tr><td>0.40</td><td>4.290144e-06</td></tr>\n",
       "\t<tr><td>0.45</td><td>2.051844e-04</td></tr>\n",
       "\t<tr><td>0.50</td><td>4.433929e-03</td></tr>\n",
       "\t<tr><td>0.55</td><td>5.325760e-02</td></tr>\n",
       "\t<tr><td>0.60</td><td>4.066871e-01</td></tr>\n",
       "\t<tr><td>0.65</td><td>2.154449e+00</td></tr>\n",
       "\t<tr><td>0.70</td><td>8.353214e+00</td></tr>\n",
       "\t<tr><td>0.75</td><td>2.431172e+01</td></tr>\n",
       "\t<tr><td>0.80</td><td>5.300430e+01</td></tr>\n",
       "\t<tr><td>0.85</td><td>8.445370e+01</td></tr>\n",
       "\t<tr><td>0.90</td><td>9.895998e+01</td></tr>\n",
       "\t<tr><td>0.95</td><td>9.999987e+01</td></tr>\n",
       "</tbody>\n",
       "</table>\n"
      ],
      "text/latex": [
       "A data.frame: 15 × 2\n",
       "\\begin{tabular}{r|ll}\n",
       " p & sapply.p..get\\_prob.\\\\\n",
       " <dbl> & <dbl>\\\\\n",
       "\\hline\n",
       "\t 0.25 & 0.000000e+00\\\\\n",
       "\t 0.30 & 3.704814e-11\\\\\n",
       "\t 0.35 & 2.914853e-08\\\\\n",
       "\t 0.40 & 4.290144e-06\\\\\n",
       "\t 0.45 & 2.051844e-04\\\\\n",
       "\t 0.50 & 4.433929e-03\\\\\n",
       "\t 0.55 & 5.325760e-02\\\\\n",
       "\t 0.60 & 4.066871e-01\\\\\n",
       "\t 0.65 & 2.154449e+00\\\\\n",
       "\t 0.70 & 8.353214e+00\\\\\n",
       "\t 0.75 & 2.431172e+01\\\\\n",
       "\t 0.80 & 5.300430e+01\\\\\n",
       "\t 0.85 & 8.445370e+01\\\\\n",
       "\t 0.90 & 9.895998e+01\\\\\n",
       "\t 0.95 & 9.999987e+01\\\\\n",
       "\\end{tabular}\n"
      ],
      "text/markdown": [
       "\n",
       "A data.frame: 15 × 2\n",
       "\n",
       "| p &lt;dbl&gt; | sapply.p..get_prob. &lt;dbl&gt; |\n",
       "|---|---|\n",
       "| 0.25 | 0.000000e+00 |\n",
       "| 0.30 | 3.704814e-11 |\n",
       "| 0.35 | 2.914853e-08 |\n",
       "| 0.40 | 4.290144e-06 |\n",
       "| 0.45 | 2.051844e-04 |\n",
       "| 0.50 | 4.433929e-03 |\n",
       "| 0.55 | 5.325760e-02 |\n",
       "| 0.60 | 4.066871e-01 |\n",
       "| 0.65 | 2.154449e+00 |\n",
       "| 0.70 | 8.353214e+00 |\n",
       "| 0.75 | 2.431172e+01 |\n",
       "| 0.80 | 5.300430e+01 |\n",
       "| 0.85 | 8.445370e+01 |\n",
       "| 0.90 | 9.895998e+01 |\n",
       "| 0.95 | 9.999987e+01 |\n",
       "\n"
      ],
      "text/plain": [
       "   p    sapply.p..get_prob.\n",
       "1  0.25 0.000000e+00       \n",
       "2  0.30 3.704814e-11       \n",
       "3  0.35 2.914853e-08       \n",
       "4  0.40 4.290144e-06       \n",
       "5  0.45 2.051844e-04       \n",
       "6  0.50 4.433929e-03       \n",
       "7  0.55 5.325760e-02       \n",
       "8  0.60 4.066871e-01       \n",
       "9  0.65 2.154449e+00       \n",
       "10 0.70 8.353214e+00       \n",
       "11 0.75 2.431172e+01       \n",
       "12 0.80 5.300430e+01       \n",
       "13 0.85 8.445370e+01       \n",
       "14 0.90 9.895998e+01       \n",
       "15 0.95 9.999987e+01       "
      ]
     },
     "metadata": {},
     "output_type": "display_data"
    }
   ],
   "source": [
    "p <- seq(0.25,0.95, 0.05)\n",
    "\n",
    "get_prob <- function(p){\n",
    "    se <- sqrt(44) * abs(1-0) * sqrt(p*(1-p))\n",
    "    avg <- 44 * (1*p+0*(1-p))\n",
    "    (1-pnorm(35,avg,se))*100\n",
    "}\n",
    "\n",
    "data.frame(p, sapply(p, get_prob))\n",
    "# sapply(p, get_prob)"
   ]
  },
  {
   "cell_type": "markdown",
   "metadata": {},
   "source": [
    "### Question 3: Betting on Roulette\n",
    "\n",
    "A casino offers a House Special bet on roulette, which is a bet on five pockets (00, 0, 1, 2, 3) out of 38 total pockets. The bet pays out 6 to 1. In other words, a losing bet yields `-$1` and a successful bet yields `$6`. A gambler wants to know the chance of losing money if he places 500 bets on the roulette House Special.\n",
    "\n",
    "The following 7-part question asks you to do some calculations related to this scenario.\n"
   ]
  },
  {
   "cell_type": "markdown",
   "metadata": {},
   "source": [
    "Question 3a\n",
    "\n",
    "What is the expected value of the payout for one bet?"
   ]
  },
  {
   "cell_type": "code",
   "execution_count": 26,
   "metadata": {},
   "outputs": [
    {
     "data": {
      "text/html": [
       "-0.0789473684210527"
      ],
      "text/latex": [
       "-0.0789473684210527"
      ],
      "text/markdown": [
       "-0.0789473684210527"
      ],
      "text/plain": [
       "[1] -0.07894737"
      ]
     },
     "metadata": {},
     "output_type": "display_data"
    }
   ],
   "source": [
    "p_success <- 5/38\n",
    "p_not_success <- 1- p_success\n",
    "\n",
    "6*p_success - 1*p_not_success"
   ]
  },
  {
   "cell_type": "markdown",
   "metadata": {},
   "source": [
    "#### Question 3b\n",
    "\n",
    "What is the standard error of the payout for one bet?"
   ]
  },
  {
   "cell_type": "code",
   "execution_count": 27,
   "metadata": {},
   "outputs": [
    {
     "data": {
      "text/html": [
       "2.36622705396463"
      ],
      "text/latex": [
       "2.36622705396463"
      ],
      "text/markdown": [
       "2.36622705396463"
      ],
      "text/plain": [
       "[1] 2.366227"
      ]
     },
     "metadata": {},
     "output_type": "display_data"
    }
   ],
   "source": [
    "abs(6--1) * sqrt(p_success * p_not_success)"
   ]
  },
  {
   "cell_type": "markdown",
   "metadata": {},
   "source": [
    "#### Question 3c\n",
    "\n",
    "What is the expected value of the average payout over 500 bets?\n",
    "Remember there is a difference between expected value of the average and expected value of the sum.\n",
    "\n",
    "\n",
    "The expected value of average of multiple draws from an urn is the expected value of the urn ( μ )."
   ]
  },
  {
   "cell_type": "code",
   "execution_count": 29,
   "metadata": {},
   "outputs": [
    {
     "data": {
      "text/html": [
       "-39.45"
      ],
      "text/latex": [
       "-39.45"
      ],
      "text/markdown": [
       "-39.45"
      ],
      "text/plain": [
       "[1] -39.45"
      ]
     },
     "metadata": {},
     "output_type": "display_data"
    }
   ],
   "source": [
    "-0.078"
   ]
  },
  {
   "cell_type": "markdown",
   "metadata": {},
   "source": [
    "#### Question 3d\n",
    "\n",
    "What is the standard error of the average payout over 500 bets?\n",
    "Remember there is a difference between the standard error of the average and standard error of the sum.\n",
    "\n",
    "\n",
    "----\n",
    "The standard deviation of the average of multiple draws from an urn is the sigma / sqrt(n)"
   ]
  },
  {
   "cell_type": "code",
   "execution_count": 30,
   "metadata": {},
   "outputs": [
    {
     "data": {
      "text/html": [
       "0.1058196809672"
      ],
      "text/latex": [
       "0.1058196809672"
      ],
      "text/markdown": [
       "0.1058196809672"
      ],
      "text/plain": [
       "[1] 0.1058197"
      ]
     },
     "metadata": {},
     "output_type": "display_data"
    }
   ],
   "source": [
    "2.3662 / sqrt(500)"
   ]
  },
  {
   "cell_type": "markdown",
   "metadata": {},
   "source": [
    "#### Question 3e\n",
    "\n",
    "What is the expected value of the sum of 500 bets?\n"
   ]
  },
  {
   "cell_type": "code",
   "execution_count": 31,
   "metadata": {},
   "outputs": [
    {
     "data": {
      "text/html": [
       "-39"
      ],
      "text/latex": [
       "-39"
      ],
      "text/markdown": [
       "-39"
      ],
      "text/plain": [
       "[1] -39"
      ]
     },
     "metadata": {},
     "output_type": "display_data"
    }
   ],
   "source": [
    "500 * -0.078"
   ]
  },
  {
   "cell_type": "markdown",
   "metadata": {},
   "source": [
    "#### Question 3f\n",
    "\n",
    "What is the standard error of the sum of 500 bets?\n"
   ]
  },
  {
   "cell_type": "code",
   "execution_count": 32,
   "metadata": {},
   "outputs": [
    {
     "data": {
      "text/html": [
       "52.9104454286397"
      ],
      "text/latex": [
       "52.9104454286397"
      ],
      "text/markdown": [
       "52.9104454286397"
      ],
      "text/plain": [
       "[1] 52.91045"
      ]
     },
     "metadata": {},
     "output_type": "display_data"
    }
   ],
   "source": [
    "sqrt(500) * abs(6--1) *sqrt(p_success * p_not_success)"
   ]
  },
  {
   "cell_type": "markdown",
   "metadata": {},
   "source": [
    "#### Question 3g\n",
    "\n",
    "Use pnorm with the expected value of the sum and standard error of the sum to calculate the probability of losing money over 500 bets,  Pr(X≤0) .\n"
   ]
  },
  {
   "cell_type": "code",
   "execution_count": 33,
   "metadata": {},
   "outputs": [
    {
     "data": {
      "text/html": [
       "0.7694694545233"
      ],
      "text/latex": [
       "0.7694694545233"
      ],
      "text/markdown": [
       "0.7694694545233"
      ],
      "text/plain": [
       "[1] 0.7694695"
      ]
     },
     "metadata": {},
     "output_type": "display_data"
    }
   ],
   "source": [
    "pnorm(0, -39, 52.910)"
   ]
  },
  {
   "cell_type": "code",
   "execution_count": null,
   "metadata": {},
   "outputs": [],
   "source": []
  }
 ],
 "metadata": {
  "kernelspec": {
   "display_name": "R",
   "language": "R",
   "name": "ir"
  },
  "language_info": {
   "codemirror_mode": "r",
   "file_extension": ".r",
   "mimetype": "text/x-r-source",
   "name": "R",
   "pygments_lexer": "r",
   "version": "3.6.1"
  }
 },
 "nbformat": 4,
 "nbformat_minor": 2
}
